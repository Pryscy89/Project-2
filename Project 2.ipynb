{
  "metadata": {
    "kernelspec": {
      "name": "python",
      "display_name": "Python (Pyodide)",
      "language": "python"
    },
    "language_info": {
      "codemirror_mode": {
        "name": "python",
        "version": 3
      },
      "file_extension": ".py",
      "mimetype": "text/x-python",
      "name": "python",
      "nbconvert_exporter": "python",
      "pygments_lexer": "ipython3",
      "version": "3.8"
    }
  },
  "nbformat_minor": 4,
  "nbformat": 4,
  "cells": [
    {
      "cell_type": "markdown",
      "source": "Dataset 1\n\nI'll utilize this information to determine the geographic location of my users. I would want to know their exact location by city, or if that is not possible, by state in which they reside.",
      "metadata": {}
    },
    {
      "cell_type": "markdown",
      "source": "1. In what city are the most female users concentrated?\n2. The city with the greatest proportion of male users.\n3. In terms of users, how many of them are female?\nIn what state are the majority of its users men?\n",
      "metadata": {}
    },
    {
      "cell_type": "code",
      "source": "import numpy as np\nimport pandas as pd\n#set some pandas options controling output format\npd.set_option('display.notebook_repr_html',True) # output as flat text and not HTML\npd.set_option('display.max_rows', None) # this is the maximum number of rows we will display\npd.set_option('display.max_columns', None) # this is the maximum number of rows we will display",
      "metadata": {
        "trusted": true
      },
      "outputs": [],
      "execution_count": 5
    },
    {
      "cell_type": "code",
      "source": "# read the csv into a dataframe, and force postal_code to be interpreted as a string.\nusers = pd.read_csv('Untidy Data.csv', dtype={'postal_code': str})",
      "metadata": {
        "trusted": true
      },
      "outputs": [],
      "execution_count": 6
    },
    {
      "cell_type": "code",
      "source": "# Display the columns in the dataframe, and get a peak at how it's formatted\nusers.head()",
      "metadata": {
        "trusted": true
      },
      "outputs": [
        {
          "execution_count": 7,
          "output_type": "execute_result",
          "data": {
            "text/plain": "   id first_name  last_name  gender                     email  \\\n0   1    Loralee    MacAdam     NaN     lmacadam0@twitter.com   \n1   2       Shir     Padula  Female        spadula1@state.gov   \n2   3     Nicole      Ottey  Female          nottey2@ucsd.edu   \n3   4     Wandie  MacKinnon  Female  wmackinnon3@geocities.jp   \n4   5        NaN       Avey    Male      tavey4@google.com.br   \n\n                  address           city     state postal_code  phone_number  \n0      0122 Alpine Street     Fort Wayne   Indiana       46814  260-134-3027  \n1             7 Orin Lane      Littleton  Colorado         NaN  720-172-5365  \n2    04558 Del Mar Street  New York City  New York       10175  646-968-2745  \n3     4 Morningstar Alley         Tucson   Arizona       85743  520-484-3593  \n4  40574 Mallard Crossing         Canton      Ohio       44720  234-345-6985  ",
            "text/html": "<div>\n<style scoped>\n    .dataframe tbody tr th:only-of-type {\n        vertical-align: middle;\n    }\n\n    .dataframe tbody tr th {\n        vertical-align: top;\n    }\n\n    .dataframe thead th {\n        text-align: right;\n    }\n</style>\n<table border=\"1\" class=\"dataframe\">\n  <thead>\n    <tr style=\"text-align: right;\">\n      <th></th>\n      <th>id</th>\n      <th>first_name</th>\n      <th>last_name</th>\n      <th>gender</th>\n      <th>email</th>\n      <th>address</th>\n      <th>city</th>\n      <th>state</th>\n      <th>postal_code</th>\n      <th>phone_number</th>\n    </tr>\n  </thead>\n  <tbody>\n    <tr>\n      <th>0</th>\n      <td>1</td>\n      <td>Loralee</td>\n      <td>MacAdam</td>\n      <td>NaN</td>\n      <td>lmacadam0@twitter.com</td>\n      <td>0122 Alpine Street</td>\n      <td>Fort Wayne</td>\n      <td>Indiana</td>\n      <td>46814</td>\n      <td>260-134-3027</td>\n    </tr>\n    <tr>\n      <th>1</th>\n      <td>2</td>\n      <td>Shir</td>\n      <td>Padula</td>\n      <td>Female</td>\n      <td>spadula1@state.gov</td>\n      <td>7 Orin Lane</td>\n      <td>Littleton</td>\n      <td>Colorado</td>\n      <td>NaN</td>\n      <td>720-172-5365</td>\n    </tr>\n    <tr>\n      <th>2</th>\n      <td>3</td>\n      <td>Nicole</td>\n      <td>Ottey</td>\n      <td>Female</td>\n      <td>nottey2@ucsd.edu</td>\n      <td>04558 Del Mar Street</td>\n      <td>New York City</td>\n      <td>New York</td>\n      <td>10175</td>\n      <td>646-968-2745</td>\n    </tr>\n    <tr>\n      <th>3</th>\n      <td>4</td>\n      <td>Wandie</td>\n      <td>MacKinnon</td>\n      <td>Female</td>\n      <td>wmackinnon3@geocities.jp</td>\n      <td>4 Morningstar Alley</td>\n      <td>Tucson</td>\n      <td>Arizona</td>\n      <td>85743</td>\n      <td>520-484-3593</td>\n    </tr>\n    <tr>\n      <th>4</th>\n      <td>5</td>\n      <td>NaN</td>\n      <td>Avey</td>\n      <td>Male</td>\n      <td>tavey4@google.com.br</td>\n      <td>40574 Mallard Crossing</td>\n      <td>Canton</td>\n      <td>Ohio</td>\n      <td>44720</td>\n      <td>234-345-6985</td>\n    </tr>\n  </tbody>\n</table>\n</div>"
          },
          "metadata": {}
        }
      ],
      "execution_count": 7
    },
    {
      "cell_type": "code",
      "source": "# get rid of rows without a city, state, and postal code\nusers.dropna(subset=['city', 'state', 'postal_code'], how='all', inplace=True)",
      "metadata": {
        "trusted": true
      },
      "outputs": [],
      "execution_count": 8
    },
    {
      "cell_type": "code",
      "source": "# create a dataframe with the number of female users by State. Dropping NaN state values.\nstate_users = users.dropna(subset=['state'], how='any') \\\n                [(users.dropna(subset=['state'], how='any').gender == 'Female')] \\\n                .groupby('state') \\\n                .state.count() \\\n                .reset_index(name='female_count') \\\n                .sort_values(['state'], ascending=True)\n\n# create a dataframe with the number of male users by State. Dropping NaN state values.\nmale_users = users.dropna(subset=['state'], how='any') \\\n                [(users.dropna(subset=['state'], how='any').gender == 'Male')] \\\n                .groupby('state') \\\n                .state.count() \\\n                .reset_index(name='male_count') \\\n                .sort_values(['state'], ascending=True)\n\n# join the two series into one dataframe\nstate_users = state_users.join(male_users.male_count)",
      "metadata": {
        "trusted": true
      },
      "outputs": [],
      "execution_count": 9
    },
    {
      "cell_type": "code",
      "source": "# return the state with the most female users\nstate_users.sort_values('female_count', ascending=False).head(1)",
      "metadata": {
        "trusted": true
      },
      "outputs": [
        {
          "execution_count": 10,
          "output_type": "execute_result",
          "data": {
            "text/plain": "        state  female_count  male_count\n4  California            57          39",
            "text/html": "<div>\n<style scoped>\n    .dataframe tbody tr th:only-of-type {\n        vertical-align: middle;\n    }\n\n    .dataframe tbody tr th {\n        vertical-align: top;\n    }\n\n    .dataframe thead th {\n        text-align: right;\n    }\n</style>\n<table border=\"1\" class=\"dataframe\">\n  <thead>\n    <tr style=\"text-align: right;\">\n      <th></th>\n      <th>state</th>\n      <th>female_count</th>\n      <th>male_count</th>\n    </tr>\n  </thead>\n  <tbody>\n    <tr>\n      <th>4</th>\n      <td>California</td>\n      <td>57</td>\n      <td>39</td>\n    </tr>\n  </tbody>\n</table>\n</div>"
          },
          "metadata": {}
        }
      ],
      "execution_count": 10
    },
    {
      "cell_type": "code",
      "source": "# return the state with the most male users\nstate_users.sort_values('male_count', ascending=False).head(1)",
      "metadata": {
        "trusted": true
      },
      "outputs": [
        {
          "execution_count": 11,
          "output_type": "execute_result",
          "data": {
            "text/plain": "        state  female_count  male_count\n4  California            57          39",
            "text/html": "<div>\n<style scoped>\n    .dataframe tbody tr th:only-of-type {\n        vertical-align: middle;\n    }\n\n    .dataframe tbody tr th {\n        vertical-align: top;\n    }\n\n    .dataframe thead th {\n        text-align: right;\n    }\n</style>\n<table border=\"1\" class=\"dataframe\">\n  <thead>\n    <tr style=\"text-align: right;\">\n      <th></th>\n      <th>state</th>\n      <th>female_count</th>\n      <th>male_count</th>\n    </tr>\n  </thead>\n  <tbody>\n    <tr>\n      <th>4</th>\n      <td>California</td>\n      <td>57</td>\n      <td>39</td>\n    </tr>\n  </tbody>\n</table>\n</div>"
          },
          "metadata": {}
        }
      ],
      "execution_count": 11
    },
    {
      "cell_type": "code",
      "source": "# create a dataframe with the number of female users by city\ncity_users = users.dropna(subset=['city'], how='any') \\\n                [(users.dropna(subset=['city'], how='any').gender == 'Female')] \\\n                .groupby(['city', 'state']) \\\n                .city.count() \\\n                .reset_index(name='female_count') \\\n                .sort_values(['city','state'], ascending=[True,True])\n\n# create a dataframe with the number of male users by city\nmale_users = users.dropna(subset=['city'], how='any') \\\n                [(users.dropna(subset=['city'], how='any').gender == 'Male')] \\\n                .groupby(['city','state']) \\\n                .city.count() \\\n                .reset_index(name='male_count') \\\n                .sort_values(['city', 'state'], ascending=[True,True])\n                \n# join the two series into one dataframe\ncity_users = city_users.join(male_users.male_count)\ncity_users.male_count = male_users.male_count.astype(int)",
      "metadata": {
        "trusted": true
      },
      "outputs": [],
      "execution_count": 12
    },
    {
      "cell_type": "code",
      "source": "# return the city with the most female users\ncity_users.sort_values('female_count', ascending=False).head(1)",
      "metadata": {
        "trusted": true
      },
      "outputs": [
        {
          "execution_count": 13,
          "output_type": "execute_result",
          "data": {
            "text/plain": "           city                 state  female_count  male_count\n203  Washington  District of Columbia            20         NaN",
            "text/html": "<div>\n<style scoped>\n    .dataframe tbody tr th:only-of-type {\n        vertical-align: middle;\n    }\n\n    .dataframe tbody tr th {\n        vertical-align: top;\n    }\n\n    .dataframe thead th {\n        text-align: right;\n    }\n</style>\n<table border=\"1\" class=\"dataframe\">\n  <thead>\n    <tr style=\"text-align: right;\">\n      <th></th>\n      <th>city</th>\n      <th>state</th>\n      <th>female_count</th>\n      <th>male_count</th>\n    </tr>\n  </thead>\n  <tbody>\n    <tr>\n      <th>203</th>\n      <td>Washington</td>\n      <td>District of Columbia</td>\n      <td>20</td>\n      <td>NaN</td>\n    </tr>\n  </tbody>\n</table>\n</div>"
          },
          "metadata": {}
        }
      ],
      "execution_count": 13
    },
    {
      "cell_type": "code",
      "source": "# return the city with the most male users\ncity_users.sort_values('male_count', ascending=False).head(1)",
      "metadata": {
        "trusted": true
      },
      "outputs": [
        {
          "execution_count": 14,
          "output_type": "execute_result",
          "data": {
            "text/plain": "      city    state  female_count  male_count\n188  Tampa  Florida             2        18.0",
            "text/html": "<div>\n<style scoped>\n    .dataframe tbody tr th:only-of-type {\n        vertical-align: middle;\n    }\n\n    .dataframe tbody tr th {\n        vertical-align: top;\n    }\n\n    .dataframe thead th {\n        text-align: right;\n    }\n</style>\n<table border=\"1\" class=\"dataframe\">\n  <thead>\n    <tr style=\"text-align: right;\">\n      <th></th>\n      <th>city</th>\n      <th>state</th>\n      <th>female_count</th>\n      <th>male_count</th>\n    </tr>\n  </thead>\n  <tbody>\n    <tr>\n      <th>188</th>\n      <td>Tampa</td>\n      <td>Florida</td>\n      <td>2</td>\n      <td>18.0</td>\n    </tr>\n  </tbody>\n</table>\n</div>"
          },
          "metadata": {}
        }
      ],
      "execution_count": 14
    },
    {
      "cell_type": "markdown",
      "source": "Dataset 2\n\nCSV formatted data which is called \"Death_Rates_NYC\". Here is the CSV file: Death_Rates_NYC.csv\n\n1. In certain rows, there are dots that indicate missing data. I'll sort the data by year and leading cause after changing the dots to null.\n2. I'll look at all the causes of mortality for white, non-Hispanic females.\n3. I'll arrange the data according to Race Ethnicity and Leading Cause after filtering the data by grouping by Race Ethnicity.\n",
      "metadata": {}
    },
    {
      "cell_type": "code",
      "source": "# read the csv into a dataframe, and set all \".\" to na values\ndot = pd.read_csv('Death_Rates_NYC.csv', na_values=['.'])",
      "metadata": {
        "trusted": true
      },
      "outputs": [],
      "execution_count": 15
    },
    {
      "cell_type": "code",
      "source": "dot.sort_values(['Year', 'Leading Cause'], ascending=[True, False]).head(10)",
      "metadata": {
        "trusted": true
      },
      "outputs": [
        {
          "execution_count": 16,
          "output_type": "execute_result",
          "data": {
            "text/plain": "     Year                                      Leading Cause Sex  \\\n44   2007                               Septicemia (A40-A41)   F   \n182  2007                               Septicemia (A40-A41)   F   \n5    2007  Mental and Behavioral Disorders due to Use of ...   M   \n49   2007  Mental and Behavioral Disorders due to Acciden...   M   \n40   2007              Malignant Neoplasms (Cancer: C00-C97)   M   \n79   2007              Malignant Neoplasms (Cancer: C00-C97)   M   \n255  2007              Malignant Neoplasms (Cancer: C00-C97)   F   \n269  2007    Intentional Self-Harm (Suicide: X60-X84, Y87.0)   M   \n33   2007            Influenza (Flu) and Pneumonia (J09-J18)   F   \n151  2007            Influenza (Flu) and Pneumonia (J09-J18)   F   \n\n            Race Ethnicity  Deaths  Death Rate  Age Adjusted Death Rate  \n44                Hispanic    49.0         4.2                      5.5  \n182     Black Non-Hispanic    89.0         8.5                      8.1  \n5       Not Stated/Unknown     NaN         NaN                      NaN  \n49      Black Non-Hispanic   163.0        19.1                     19.0  \n40      Not Stated/Unknown    45.0         NaN                      NaN  \n79      White Non-Hispanic  3356.0       250.9                    213.7  \n255  Other Race/ Ethnicity    22.0         NaN                      NaN  \n269     White Non-Hispanic   187.0        14.0                     12.7  \n33      Black Non-Hispanic   295.0        28.0                     26.9  \n151               Hispanic   190.0        16.3                     22.3  ",
            "text/html": "<div>\n<style scoped>\n    .dataframe tbody tr th:only-of-type {\n        vertical-align: middle;\n    }\n\n    .dataframe tbody tr th {\n        vertical-align: top;\n    }\n\n    .dataframe thead th {\n        text-align: right;\n    }\n</style>\n<table border=\"1\" class=\"dataframe\">\n  <thead>\n    <tr style=\"text-align: right;\">\n      <th></th>\n      <th>Year</th>\n      <th>Leading Cause</th>\n      <th>Sex</th>\n      <th>Race Ethnicity</th>\n      <th>Deaths</th>\n      <th>Death Rate</th>\n      <th>Age Adjusted Death Rate</th>\n    </tr>\n  </thead>\n  <tbody>\n    <tr>\n      <th>44</th>\n      <td>2007</td>\n      <td>Septicemia (A40-A41)</td>\n      <td>F</td>\n      <td>Hispanic</td>\n      <td>49.0</td>\n      <td>4.2</td>\n      <td>5.5</td>\n    </tr>\n    <tr>\n      <th>182</th>\n      <td>2007</td>\n      <td>Septicemia (A40-A41)</td>\n      <td>F</td>\n      <td>Black Non-Hispanic</td>\n      <td>89.0</td>\n      <td>8.5</td>\n      <td>8.1</td>\n    </tr>\n    <tr>\n      <th>5</th>\n      <td>2007</td>\n      <td>Mental and Behavioral Disorders due to Use of ...</td>\n      <td>M</td>\n      <td>Not Stated/Unknown</td>\n      <td>NaN</td>\n      <td>NaN</td>\n      <td>NaN</td>\n    </tr>\n    <tr>\n      <th>49</th>\n      <td>2007</td>\n      <td>Mental and Behavioral Disorders due to Acciden...</td>\n      <td>M</td>\n      <td>Black Non-Hispanic</td>\n      <td>163.0</td>\n      <td>19.1</td>\n      <td>19.0</td>\n    </tr>\n    <tr>\n      <th>40</th>\n      <td>2007</td>\n      <td>Malignant Neoplasms (Cancer: C00-C97)</td>\n      <td>M</td>\n      <td>Not Stated/Unknown</td>\n      <td>45.0</td>\n      <td>NaN</td>\n      <td>NaN</td>\n    </tr>\n    <tr>\n      <th>79</th>\n      <td>2007</td>\n      <td>Malignant Neoplasms (Cancer: C00-C97)</td>\n      <td>M</td>\n      <td>White Non-Hispanic</td>\n      <td>3356.0</td>\n      <td>250.9</td>\n      <td>213.7</td>\n    </tr>\n    <tr>\n      <th>255</th>\n      <td>2007</td>\n      <td>Malignant Neoplasms (Cancer: C00-C97)</td>\n      <td>F</td>\n      <td>Other Race/ Ethnicity</td>\n      <td>22.0</td>\n      <td>NaN</td>\n      <td>NaN</td>\n    </tr>\n    <tr>\n      <th>269</th>\n      <td>2007</td>\n      <td>Intentional Self-Harm (Suicide: X60-X84, Y87.0)</td>\n      <td>M</td>\n      <td>White Non-Hispanic</td>\n      <td>187.0</td>\n      <td>14.0</td>\n      <td>12.7</td>\n    </tr>\n    <tr>\n      <th>33</th>\n      <td>2007</td>\n      <td>Influenza (Flu) and Pneumonia (J09-J18)</td>\n      <td>F</td>\n      <td>Black Non-Hispanic</td>\n      <td>295.0</td>\n      <td>28.0</td>\n      <td>26.9</td>\n    </tr>\n    <tr>\n      <th>151</th>\n      <td>2007</td>\n      <td>Influenza (Flu) and Pneumonia (J09-J18)</td>\n      <td>F</td>\n      <td>Hispanic</td>\n      <td>190.0</td>\n      <td>16.3</td>\n      <td>22.3</td>\n    </tr>\n  </tbody>\n</table>\n</div>"
          },
          "metadata": {}
        }
      ],
      "execution_count": 16
    },
    {
      "cell_type": "code",
      "source": "# rename the columns for ease of use\ndot = dot.rename(columns={'Year': 'year', \\\n                          'Leading Cause': 'leading_cause', \\\n                          'Sex': 'sex', \\\n                          'Race Ethnicity': 'race_ethnicity', \\\n                          'Deaths': 'deaths', \\\n                          'Death Rate': 'death_rate', \\\n                          'Age Adjusted Death Rate': 'age_adjusted_death_rate'})\n\n# this line drops any rows with null for Year, Leading Cause, or Deaths.\ndot.dropna(subset=['year', 'leading_cause', 'deaths'], how='any', inplace=True) \n\n# set the deaths column to integers so pandas interprets it numerically\ndot.deaths = dot.deaths.astype(int)",
      "metadata": {
        "trusted": true
      },
      "outputs": [],
      "execution_count": 17
    },
    {
      "cell_type": "code",
      "source": "# Sort the dataframe by Year and Leading Cause... which means total deaths for a leading cause.\ndot.sort_values(['year', 'deaths'], ascending=[True, False], inplace=True)",
      "metadata": {
        "trusted": true
      },
      "outputs": [],
      "execution_count": 18
    },
    {
      "cell_type": "code",
      "source": "# Filter the dataframe to show only deaths for White Non-Hispanic females.\nf_wnh_deaths = dot[(dot.race_ethnicity == 'White Non-Hispanic') & (dot.sex == 'F')]\n            \nf_wnh_deaths.head(50)",
      "metadata": {
        "trusted": true
      },
      "outputs": [
        {
          "execution_count": 19,
          "output_type": "execute_result",
          "data": {
            "text/plain": "     year                                      leading_cause sex  \\\n234  2007                                   All Other Causes   F   \n181  2007  Accidents Except Drug Posioning (V01-X39, X43,...   F   \n230  2008                                   All Other Causes   F   \n38   2008                        Diabetes Mellitus (E10-E14)   F   \n190  2009              Malignant Neoplasms (Cancer: C00-C97)   F   \n119  2010     Diseases of Heart (I00-I09, I11, I13, I20-I51)   F   \n224  2010       Chronic Lower Respiratory Diseases (J40-J47)   F   \n133  2010  Essential Hypertension and Renal Diseases (I10...   F   \n195  2011              Malignant Neoplasms (Cancer: C00-C97)   F   \n165  2011  Essential Hypertension and Renal Diseases (I10...   F   \n27   2011  Mental and Behavioral Disorders due to Acciden...   F   \n226  2012                        Diabetes Mellitus (E10-E14)   F   \n115  2012  Essential Hypertension and Renal Diseases (I10...   F   \n285  2012  Accidents Except Drug Posioning (V01-X39, X43,...   F   \n218  2013     Diseases of Heart (I00-I09, I11, I13, I20-I51)   F   \n239  2013                                   All Other Causes   F   \n147  2013            Influenza (Flu) and Pneumonia (J09-J18)   F   \n243  2013          Cerebrovascular Disease (Stroke: I60-I69)   F   \n104  2013                          Alzheimer's Disease (G30)   F   \n282  2013  Accidents Except Drug Posioning (V01-X39, X43,...   F   \n129  2014            Influenza (Flu) and Pneumonia (J09-J18)   F   \n23   2014  Essential Hypertension and Renal Diseases (I10...   F   \n28   2014  Accidents Except Drug Posioning (V01-X39, X43,...   F   \n223  2014                               Septicemia (A40-A41)   F   \n\n         race_ethnicity  deaths  death_rate  age_adjusted_death_rate  \n234  White Non-Hispanic    1680       117.1                     81.5  \n181  White Non-Hispanic     162        11.3                      7.3  \n230  White Non-Hispanic    1706       118.9                     78.6  \n38   White Non-Hispanic     210        14.6                      8.8  \n190  White Non-Hispanic    3346       232.9                    159.0  \n119  White Non-Hispanic    5351       374.2                    189.2  \n224  White Non-Hispanic     501        35.0                     20.7  \n133  White Non-Hispanic     219        15.3                      7.7  \n195  White Non-Hispanic    3371       238.0                    161.1  \n165  White Non-Hispanic     199        14.0                      6.8  \n27   White Non-Hispanic      88         6.2                      6.1  \n226  White Non-Hispanic     240        16.9                     10.3  \n115  White Non-Hispanic     199        14.0                      7.2  \n285  White Non-Hispanic     177        12.5                      8.5  \n218  White Non-Hispanic    4535       319.0                    160.6  \n239  White Non-Hispanic    2595       182.5                    111.1  \n147  White Non-Hispanic     622        43.7                     22.1  \n243  White Non-Hispanic     427        30.0                     16.4  \n104  White Non-Hispanic     263        18.5                      8.4  \n282  White Non-Hispanic     166        11.7                      8.1  \n129  White Non-Hispanic     563        39.7                     20.4  \n23   White Non-Hispanic     180        12.7                      6.7  \n28   White Non-Hispanic     169        11.9                      7.4  \n223  White Non-Hispanic     118         8.3                      4.7  ",
            "text/html": "<div>\n<style scoped>\n    .dataframe tbody tr th:only-of-type {\n        vertical-align: middle;\n    }\n\n    .dataframe tbody tr th {\n        vertical-align: top;\n    }\n\n    .dataframe thead th {\n        text-align: right;\n    }\n</style>\n<table border=\"1\" class=\"dataframe\">\n  <thead>\n    <tr style=\"text-align: right;\">\n      <th></th>\n      <th>year</th>\n      <th>leading_cause</th>\n      <th>sex</th>\n      <th>race_ethnicity</th>\n      <th>deaths</th>\n      <th>death_rate</th>\n      <th>age_adjusted_death_rate</th>\n    </tr>\n  </thead>\n  <tbody>\n    <tr>\n      <th>234</th>\n      <td>2007</td>\n      <td>All Other Causes</td>\n      <td>F</td>\n      <td>White Non-Hispanic</td>\n      <td>1680</td>\n      <td>117.1</td>\n      <td>81.5</td>\n    </tr>\n    <tr>\n      <th>181</th>\n      <td>2007</td>\n      <td>Accidents Except Drug Posioning (V01-X39, X43,...</td>\n      <td>F</td>\n      <td>White Non-Hispanic</td>\n      <td>162</td>\n      <td>11.3</td>\n      <td>7.3</td>\n    </tr>\n    <tr>\n      <th>230</th>\n      <td>2008</td>\n      <td>All Other Causes</td>\n      <td>F</td>\n      <td>White Non-Hispanic</td>\n      <td>1706</td>\n      <td>118.9</td>\n      <td>78.6</td>\n    </tr>\n    <tr>\n      <th>38</th>\n      <td>2008</td>\n      <td>Diabetes Mellitus (E10-E14)</td>\n      <td>F</td>\n      <td>White Non-Hispanic</td>\n      <td>210</td>\n      <td>14.6</td>\n      <td>8.8</td>\n    </tr>\n    <tr>\n      <th>190</th>\n      <td>2009</td>\n      <td>Malignant Neoplasms (Cancer: C00-C97)</td>\n      <td>F</td>\n      <td>White Non-Hispanic</td>\n      <td>3346</td>\n      <td>232.9</td>\n      <td>159.0</td>\n    </tr>\n    <tr>\n      <th>119</th>\n      <td>2010</td>\n      <td>Diseases of Heart (I00-I09, I11, I13, I20-I51)</td>\n      <td>F</td>\n      <td>White Non-Hispanic</td>\n      <td>5351</td>\n      <td>374.2</td>\n      <td>189.2</td>\n    </tr>\n    <tr>\n      <th>224</th>\n      <td>2010</td>\n      <td>Chronic Lower Respiratory Diseases (J40-J47)</td>\n      <td>F</td>\n      <td>White Non-Hispanic</td>\n      <td>501</td>\n      <td>35.0</td>\n      <td>20.7</td>\n    </tr>\n    <tr>\n      <th>133</th>\n      <td>2010</td>\n      <td>Essential Hypertension and Renal Diseases (I10...</td>\n      <td>F</td>\n      <td>White Non-Hispanic</td>\n      <td>219</td>\n      <td>15.3</td>\n      <td>7.7</td>\n    </tr>\n    <tr>\n      <th>195</th>\n      <td>2011</td>\n      <td>Malignant Neoplasms (Cancer: C00-C97)</td>\n      <td>F</td>\n      <td>White Non-Hispanic</td>\n      <td>3371</td>\n      <td>238.0</td>\n      <td>161.1</td>\n    </tr>\n    <tr>\n      <th>165</th>\n      <td>2011</td>\n      <td>Essential Hypertension and Renal Diseases (I10...</td>\n      <td>F</td>\n      <td>White Non-Hispanic</td>\n      <td>199</td>\n      <td>14.0</td>\n      <td>6.8</td>\n    </tr>\n    <tr>\n      <th>27</th>\n      <td>2011</td>\n      <td>Mental and Behavioral Disorders due to Acciden...</td>\n      <td>F</td>\n      <td>White Non-Hispanic</td>\n      <td>88</td>\n      <td>6.2</td>\n      <td>6.1</td>\n    </tr>\n    <tr>\n      <th>226</th>\n      <td>2012</td>\n      <td>Diabetes Mellitus (E10-E14)</td>\n      <td>F</td>\n      <td>White Non-Hispanic</td>\n      <td>240</td>\n      <td>16.9</td>\n      <td>10.3</td>\n    </tr>\n    <tr>\n      <th>115</th>\n      <td>2012</td>\n      <td>Essential Hypertension and Renal Diseases (I10...</td>\n      <td>F</td>\n      <td>White Non-Hispanic</td>\n      <td>199</td>\n      <td>14.0</td>\n      <td>7.2</td>\n    </tr>\n    <tr>\n      <th>285</th>\n      <td>2012</td>\n      <td>Accidents Except Drug Posioning (V01-X39, X43,...</td>\n      <td>F</td>\n      <td>White Non-Hispanic</td>\n      <td>177</td>\n      <td>12.5</td>\n      <td>8.5</td>\n    </tr>\n    <tr>\n      <th>218</th>\n      <td>2013</td>\n      <td>Diseases of Heart (I00-I09, I11, I13, I20-I51)</td>\n      <td>F</td>\n      <td>White Non-Hispanic</td>\n      <td>4535</td>\n      <td>319.0</td>\n      <td>160.6</td>\n    </tr>\n    <tr>\n      <th>239</th>\n      <td>2013</td>\n      <td>All Other Causes</td>\n      <td>F</td>\n      <td>White Non-Hispanic</td>\n      <td>2595</td>\n      <td>182.5</td>\n      <td>111.1</td>\n    </tr>\n    <tr>\n      <th>147</th>\n      <td>2013</td>\n      <td>Influenza (Flu) and Pneumonia (J09-J18)</td>\n      <td>F</td>\n      <td>White Non-Hispanic</td>\n      <td>622</td>\n      <td>43.7</td>\n      <td>22.1</td>\n    </tr>\n    <tr>\n      <th>243</th>\n      <td>2013</td>\n      <td>Cerebrovascular Disease (Stroke: I60-I69)</td>\n      <td>F</td>\n      <td>White Non-Hispanic</td>\n      <td>427</td>\n      <td>30.0</td>\n      <td>16.4</td>\n    </tr>\n    <tr>\n      <th>104</th>\n      <td>2013</td>\n      <td>Alzheimer's Disease (G30)</td>\n      <td>F</td>\n      <td>White Non-Hispanic</td>\n      <td>263</td>\n      <td>18.5</td>\n      <td>8.4</td>\n    </tr>\n    <tr>\n      <th>282</th>\n      <td>2013</td>\n      <td>Accidents Except Drug Posioning (V01-X39, X43,...</td>\n      <td>F</td>\n      <td>White Non-Hispanic</td>\n      <td>166</td>\n      <td>11.7</td>\n      <td>8.1</td>\n    </tr>\n    <tr>\n      <th>129</th>\n      <td>2014</td>\n      <td>Influenza (Flu) and Pneumonia (J09-J18)</td>\n      <td>F</td>\n      <td>White Non-Hispanic</td>\n      <td>563</td>\n      <td>39.7</td>\n      <td>20.4</td>\n    </tr>\n    <tr>\n      <th>23</th>\n      <td>2014</td>\n      <td>Essential Hypertension and Renal Diseases (I10...</td>\n      <td>F</td>\n      <td>White Non-Hispanic</td>\n      <td>180</td>\n      <td>12.7</td>\n      <td>6.7</td>\n    </tr>\n    <tr>\n      <th>28</th>\n      <td>2014</td>\n      <td>Accidents Except Drug Posioning (V01-X39, X43,...</td>\n      <td>F</td>\n      <td>White Non-Hispanic</td>\n      <td>169</td>\n      <td>11.9</td>\n      <td>7.4</td>\n    </tr>\n    <tr>\n      <th>223</th>\n      <td>2014</td>\n      <td>Septicemia (A40-A41)</td>\n      <td>F</td>\n      <td>White Non-Hispanic</td>\n      <td>118</td>\n      <td>8.3</td>\n      <td>4.7</td>\n    </tr>\n  </tbody>\n</table>\n</div>"
          },
          "metadata": {}
        }
      ],
      "execution_count": 19
    },
    {
      "cell_type": "code",
      "source": "# I will filter data by grouping by Race Ethnicity and sort the data by Race Ethnicity and Leading Cause.\n# I think what he is trying to say is that he will sort the data in such a way that he will be able\n# to discren the leading cause of death by race/ethnicity. To do this we furst have to create a \n# dataframe that holds the race/ethnicity, leading cause of death, and sum of those deaths from each year.\n# this line of code does that.\nleading_cause_by_race = dot.groupby(['race_ethnicity', 'leading_cause'], \\\n                        as_index=False)['deaths'].sum()",
      "metadata": {
        "trusted": true
      },
      "outputs": [],
      "execution_count": 21
    },
    {
      "cell_type": "code",
      "source": "# Then we take the dataframe with the race/ethnicity, leading cause of death, and sum of those \n# deaths from each year, and sort it by race/ethnicity, and the sum of the Leading cause of death.\nleading_cause_by_race.sort_values(['race_ethnicity', 'deaths'], ascending=[True,False])",
      "metadata": {
        "trusted": true
      },
      "outputs": [
        {
          "execution_count": 22,
          "output_type": "execute_result",
          "data": {
            "text/plain": "                race_ethnicity  \\\n11  Asian and Pacific Islander   \n1   Asian and Pacific Islander   \n7   Asian and Pacific Islander   \n9   Asian and Pacific Islander   \n2   Asian and Pacific Islander   \n5   Asian and Pacific Islander   \n0   Asian and Pacific Islander   \n6   Asian and Pacific Islander   \n8   Asian and Pacific Islander   \n10  Asian and Pacific Islander   \n12  Asian and Pacific Islander   \n3   Asian and Pacific Islander   \n4   Asian and Pacific Islander   \n13  Asian and Pacific Islander   \n21          Black Non-Hispanic   \n25          Black Non-Hispanic   \n15          Black Non-Hispanic   \n20          Black Non-Hispanic   \n18          Black Non-Hispanic   \n17          Black Non-Hispanic   \n19          Black Non-Hispanic   \n22          Black Non-Hispanic   \n14          Black Non-Hispanic   \n23          Black Non-Hispanic   \n24          Black Non-Hispanic   \n16          Black Non-Hispanic   \n26          Black Non-Hispanic   \n27          Black Non-Hispanic   \n28          Black Non-Hispanic   \n40                    Hispanic   \n36                    Hispanic   \n30                    Hispanic   \n35                    Hispanic   \n38                    Hispanic   \n39                    Hispanic   \n29                    Hispanic   \n32                    Hispanic   \n33                    Hispanic   \n41                    Hispanic   \n34                    Hispanic   \n37                    Hispanic   \n31                    Hispanic   \n42                    Hispanic   \n44          Not Stated/Unknown   \n55          Not Stated/Unknown   \n51          Not Stated/Unknown   \n47          Not Stated/Unknown   \n53          Not Stated/Unknown   \n49          Not Stated/Unknown   \n56          Not Stated/Unknown   \n46          Not Stated/Unknown   \n52          Not Stated/Unknown   \n43          Not Stated/Unknown   \n48          Not Stated/Unknown   \n54          Not Stated/Unknown   \n45          Not Stated/Unknown   \n50          Not Stated/Unknown   \n57       Other Race/ Ethnicity   \n67       Other Race/ Ethnicity   \n62       Other Race/ Ethnicity   \n61       Other Race/ Ethnicity   \n58       Other Race/ Ethnicity   \n66       Other Race/ Ethnicity   \n65       Other Race/ Ethnicity   \n68       Other Race/ Ethnicity   \n59       Other Race/ Ethnicity   \n64       Other Race/ Ethnicity   \n63       Other Race/ Ethnicity   \n69       Other Race/ Ethnicity   \n60       Other Race/ Ethnicity   \n80          White Non-Hispanic   \n71          White Non-Hispanic   \n76          White Non-Hispanic   \n78          White Non-Hispanic   \n75          White Non-Hispanic   \n73          White Non-Hispanic   \n77          White Non-Hispanic   \n74          White Non-Hispanic   \n70          White Non-Hispanic   \n79          White Non-Hispanic   \n72          White Non-Hispanic   \n82          White Non-Hispanic   \n81          White Non-Hispanic   \n\n                                        leading_cause  deaths  \n11              Malignant Neoplasms (Cancer: C00-C97)    3263  \n1                                    All Other Causes    1743  \n7      Diseases of Heart (I00-I09, I11, I13, I20-I51)    1730  \n9             Influenza (Flu) and Pneumonia (J09-J18)     429  \n2           Cerebrovascular Disease (Stroke: I60-I69)     391  \n5        Chronic Lower Respiratory Diseases (J40-J47)     286  \n0   Accidents Except Drug Posioning (V01-X39, X43,...     168  \n6                         Diabetes Mellitus (E10-E14)     128  \n8   Essential Hypertension and Renal Diseases (I10...      92  \n10    Intentional Self-Harm (Suicide: X60-X84, Y87.0)      58  \n12  Nephritis, Nephrotic Syndrome and Nephrisis (N...      41  \n3   Certain Conditions originating in the Perinata...      19  \n4      Chronic Liver Disease and Cirrhosis (K70, K73)      17  \n13                          Viral Hepatitis (B15-B19)      15  \n21     Diseases of Heart (I00-I09, I11, I13, I20-I51)   12661  \n25              Malignant Neoplasms (Cancer: C00-C97)    6865  \n15                                   All Other Causes    4182  \n20                        Diabetes Mellitus (E10-E14)    2394  \n18          Cerebrovascular Disease (Stroke: I60-I69)     987  \n17                 Assault (Homicide: Y87.1, X85-Y09)     832  \n19       Chronic Lower Respiratory Diseases (J40-J47)     673  \n22  Essential Hypertension and Renal Diseases (I10...     657  \n14  Accidents Except Drug Posioning (V01-X39, X43,...     599  \n23  Human Immunodeficiency Virus Disease (HIV: B20...     596  \n24            Influenza (Flu) and Pneumonia (J09-J18)     537  \n16                          Alzheimer's Disease (G30)     257  \n26  Mental and Behavioral Disorders due to Acciden...     163  \n27  Nephritis, Nephrotic Syndrome and Nephrisis (N...      90  \n28                               Septicemia (A40-A41)      89  \n40              Malignant Neoplasms (Cancer: C00-C97)    6743  \n36     Diseases of Heart (I00-I09, I11, I13, I20-I51)    5176  \n30                                   All Other Causes    2187  \n35                        Diabetes Mellitus (E10-E14)    1235  \n38  Human Immunodeficiency Virus Disease (HIV: B20...     852  \n39            Influenza (Flu) and Pneumonia (J09-J18)     822  \n29  Accidents Except Drug Posioning (V01-X39, X43,...     603  \n32          Cerebrovascular Disease (Stroke: I60-I69)     595  \n33     Chronic Liver Disease and Cirrhosis (K70, K73)     403  \n41  Mental and Behavioral Disorders due to Acciden...     311  \n34       Chronic Lower Respiratory Diseases (J40-J47)     307  \n37  Essential Hypertension and Renal Diseases (I10...     300  \n31                          Alzheimer's Disease (G30)     246  \n42                               Septicemia (A40-A41)      49  \n44                                   All Other Causes     608  \n55              Malignant Neoplasms (Cancer: C00-C97)     170  \n51     Diseases of Heart (I00-I09, I11, I13, I20-I51)     158  \n47  Certain Conditions originating in the Perinata...      66  \n53            Influenza (Flu) and Pneumonia (J09-J18)      32  \n49       Chronic Lower Respiratory Diseases (J40-J47)      28  \n56  Mental and Behavioral Disorders due to Acciden...      28  \n46          Cerebrovascular Disease (Stroke: I60-I69)      22  \n52  Human Immunodeficiency Virus Disease (HIV: B20...      15  \n43  Accidents Except Drug Posioning (V01-X39, X43,...      10  \n48     Chronic Liver Disease and Cirrhosis (K70, K73)      10  \n54    Intentional Self-Harm (Suicide: X60-X84, Y87.0)       8  \n45                 Assault (Homicide: Y87.1, X85-Y09)       7  \n50                        Diabetes Mellitus (E10-E14)       5  \n57                                   All Other Causes     260  \n67              Malignant Neoplasms (Cancer: C00-C97)     122  \n62     Diseases of Heart (I00-I09, I11, I13, I20-I51)      40  \n61                        Diabetes Mellitus (E10-E14)      20  \n58          Cerebrovascular Disease (Stroke: I60-I69)      19  \n66    Intentional Self-Harm (Suicide: X60-X84, Y87.0)      15  \n65            Influenza (Flu) and Pneumonia (J09-J18)      13  \n68  Mental and Behavioral Disorders due to Acciden...      12  \n59     Chronic Liver Disease and Cirrhosis (K70, K73)      10  \n64  Human Immunodeficiency Virus Disease (HIV: B20...      10  \n63  Essential Hypertension and Renal Diseases (I10...       8  \n69                               Septicemia (A40-A41)       6  \n60       Chronic Lower Respiratory Diseases (J40-J47)       5  \n80              Malignant Neoplasms (Cancer: C00-C97)   13481  \n71                                   All Other Causes   11582  \n76     Diseases of Heart (I00-I09, I11, I13, I20-I51)    9886  \n78            Influenza (Flu) and Pneumonia (J09-J18)    1687  \n75                        Diabetes Mellitus (E10-E14)    1278  \n73          Cerebrovascular Disease (Stroke: I60-I69)    1247  \n77  Essential Hypertension and Renal Diseases (I10...    1240  \n74       Chronic Lower Respiratory Diseases (J40-J47)    1234  \n70  Accidents Except Drug Posioning (V01-X39, X43,...     971  \n79    Intentional Self-Harm (Suicide: X60-X84, Y87.0)     586  \n72                          Alzheimer's Disease (G30)     263  \n82                               Septicemia (A40-A41)     118  \n81  Mental and Behavioral Disorders due to Acciden...      88  ",
            "text/html": "<div>\n<style scoped>\n    .dataframe tbody tr th:only-of-type {\n        vertical-align: middle;\n    }\n\n    .dataframe tbody tr th {\n        vertical-align: top;\n    }\n\n    .dataframe thead th {\n        text-align: right;\n    }\n</style>\n<table border=\"1\" class=\"dataframe\">\n  <thead>\n    <tr style=\"text-align: right;\">\n      <th></th>\n      <th>race_ethnicity</th>\n      <th>leading_cause</th>\n      <th>deaths</th>\n    </tr>\n  </thead>\n  <tbody>\n    <tr>\n      <th>11</th>\n      <td>Asian and Pacific Islander</td>\n      <td>Malignant Neoplasms (Cancer: C00-C97)</td>\n      <td>3263</td>\n    </tr>\n    <tr>\n      <th>1</th>\n      <td>Asian and Pacific Islander</td>\n      <td>All Other Causes</td>\n      <td>1743</td>\n    </tr>\n    <tr>\n      <th>7</th>\n      <td>Asian and Pacific Islander</td>\n      <td>Diseases of Heart (I00-I09, I11, I13, I20-I51)</td>\n      <td>1730</td>\n    </tr>\n    <tr>\n      <th>9</th>\n      <td>Asian and Pacific Islander</td>\n      <td>Influenza (Flu) and Pneumonia (J09-J18)</td>\n      <td>429</td>\n    </tr>\n    <tr>\n      <th>2</th>\n      <td>Asian and Pacific Islander</td>\n      <td>Cerebrovascular Disease (Stroke: I60-I69)</td>\n      <td>391</td>\n    </tr>\n    <tr>\n      <th>5</th>\n      <td>Asian and Pacific Islander</td>\n      <td>Chronic Lower Respiratory Diseases (J40-J47)</td>\n      <td>286</td>\n    </tr>\n    <tr>\n      <th>0</th>\n      <td>Asian and Pacific Islander</td>\n      <td>Accidents Except Drug Posioning (V01-X39, X43,...</td>\n      <td>168</td>\n    </tr>\n    <tr>\n      <th>6</th>\n      <td>Asian and Pacific Islander</td>\n      <td>Diabetes Mellitus (E10-E14)</td>\n      <td>128</td>\n    </tr>\n    <tr>\n      <th>8</th>\n      <td>Asian and Pacific Islander</td>\n      <td>Essential Hypertension and Renal Diseases (I10...</td>\n      <td>92</td>\n    </tr>\n    <tr>\n      <th>10</th>\n      <td>Asian and Pacific Islander</td>\n      <td>Intentional Self-Harm (Suicide: X60-X84, Y87.0)</td>\n      <td>58</td>\n    </tr>\n    <tr>\n      <th>12</th>\n      <td>Asian and Pacific Islander</td>\n      <td>Nephritis, Nephrotic Syndrome and Nephrisis (N...</td>\n      <td>41</td>\n    </tr>\n    <tr>\n      <th>3</th>\n      <td>Asian and Pacific Islander</td>\n      <td>Certain Conditions originating in the Perinata...</td>\n      <td>19</td>\n    </tr>\n    <tr>\n      <th>4</th>\n      <td>Asian and Pacific Islander</td>\n      <td>Chronic Liver Disease and Cirrhosis (K70, K73)</td>\n      <td>17</td>\n    </tr>\n    <tr>\n      <th>13</th>\n      <td>Asian and Pacific Islander</td>\n      <td>Viral Hepatitis (B15-B19)</td>\n      <td>15</td>\n    </tr>\n    <tr>\n      <th>21</th>\n      <td>Black Non-Hispanic</td>\n      <td>Diseases of Heart (I00-I09, I11, I13, I20-I51)</td>\n      <td>12661</td>\n    </tr>\n    <tr>\n      <th>25</th>\n      <td>Black Non-Hispanic</td>\n      <td>Malignant Neoplasms (Cancer: C00-C97)</td>\n      <td>6865</td>\n    </tr>\n    <tr>\n      <th>15</th>\n      <td>Black Non-Hispanic</td>\n      <td>All Other Causes</td>\n      <td>4182</td>\n    </tr>\n    <tr>\n      <th>20</th>\n      <td>Black Non-Hispanic</td>\n      <td>Diabetes Mellitus (E10-E14)</td>\n      <td>2394</td>\n    </tr>\n    <tr>\n      <th>18</th>\n      <td>Black Non-Hispanic</td>\n      <td>Cerebrovascular Disease (Stroke: I60-I69)</td>\n      <td>987</td>\n    </tr>\n    <tr>\n      <th>17</th>\n      <td>Black Non-Hispanic</td>\n      <td>Assault (Homicide: Y87.1, X85-Y09)</td>\n      <td>832</td>\n    </tr>\n    <tr>\n      <th>19</th>\n      <td>Black Non-Hispanic</td>\n      <td>Chronic Lower Respiratory Diseases (J40-J47)</td>\n      <td>673</td>\n    </tr>\n    <tr>\n      <th>22</th>\n      <td>Black Non-Hispanic</td>\n      <td>Essential Hypertension and Renal Diseases (I10...</td>\n      <td>657</td>\n    </tr>\n    <tr>\n      <th>14</th>\n      <td>Black Non-Hispanic</td>\n      <td>Accidents Except Drug Posioning (V01-X39, X43,...</td>\n      <td>599</td>\n    </tr>\n    <tr>\n      <th>23</th>\n      <td>Black Non-Hispanic</td>\n      <td>Human Immunodeficiency Virus Disease (HIV: B20...</td>\n      <td>596</td>\n    </tr>\n    <tr>\n      <th>24</th>\n      <td>Black Non-Hispanic</td>\n      <td>Influenza (Flu) and Pneumonia (J09-J18)</td>\n      <td>537</td>\n    </tr>\n    <tr>\n      <th>16</th>\n      <td>Black Non-Hispanic</td>\n      <td>Alzheimer's Disease (G30)</td>\n      <td>257</td>\n    </tr>\n    <tr>\n      <th>26</th>\n      <td>Black Non-Hispanic</td>\n      <td>Mental and Behavioral Disorders due to Acciden...</td>\n      <td>163</td>\n    </tr>\n    <tr>\n      <th>27</th>\n      <td>Black Non-Hispanic</td>\n      <td>Nephritis, Nephrotic Syndrome and Nephrisis (N...</td>\n      <td>90</td>\n    </tr>\n    <tr>\n      <th>28</th>\n      <td>Black Non-Hispanic</td>\n      <td>Septicemia (A40-A41)</td>\n      <td>89</td>\n    </tr>\n    <tr>\n      <th>40</th>\n      <td>Hispanic</td>\n      <td>Malignant Neoplasms (Cancer: C00-C97)</td>\n      <td>6743</td>\n    </tr>\n    <tr>\n      <th>36</th>\n      <td>Hispanic</td>\n      <td>Diseases of Heart (I00-I09, I11, I13, I20-I51)</td>\n      <td>5176</td>\n    </tr>\n    <tr>\n      <th>30</th>\n      <td>Hispanic</td>\n      <td>All Other Causes</td>\n      <td>2187</td>\n    </tr>\n    <tr>\n      <th>35</th>\n      <td>Hispanic</td>\n      <td>Diabetes Mellitus (E10-E14)</td>\n      <td>1235</td>\n    </tr>\n    <tr>\n      <th>38</th>\n      <td>Hispanic</td>\n      <td>Human Immunodeficiency Virus Disease (HIV: B20...</td>\n      <td>852</td>\n    </tr>\n    <tr>\n      <th>39</th>\n      <td>Hispanic</td>\n      <td>Influenza (Flu) and Pneumonia (J09-J18)</td>\n      <td>822</td>\n    </tr>\n    <tr>\n      <th>29</th>\n      <td>Hispanic</td>\n      <td>Accidents Except Drug Posioning (V01-X39, X43,...</td>\n      <td>603</td>\n    </tr>\n    <tr>\n      <th>32</th>\n      <td>Hispanic</td>\n      <td>Cerebrovascular Disease (Stroke: I60-I69)</td>\n      <td>595</td>\n    </tr>\n    <tr>\n      <th>33</th>\n      <td>Hispanic</td>\n      <td>Chronic Liver Disease and Cirrhosis (K70, K73)</td>\n      <td>403</td>\n    </tr>\n    <tr>\n      <th>41</th>\n      <td>Hispanic</td>\n      <td>Mental and Behavioral Disorders due to Acciden...</td>\n      <td>311</td>\n    </tr>\n    <tr>\n      <th>34</th>\n      <td>Hispanic</td>\n      <td>Chronic Lower Respiratory Diseases (J40-J47)</td>\n      <td>307</td>\n    </tr>\n    <tr>\n      <th>37</th>\n      <td>Hispanic</td>\n      <td>Essential Hypertension and Renal Diseases (I10...</td>\n      <td>300</td>\n    </tr>\n    <tr>\n      <th>31</th>\n      <td>Hispanic</td>\n      <td>Alzheimer's Disease (G30)</td>\n      <td>246</td>\n    </tr>\n    <tr>\n      <th>42</th>\n      <td>Hispanic</td>\n      <td>Septicemia (A40-A41)</td>\n      <td>49</td>\n    </tr>\n    <tr>\n      <th>44</th>\n      <td>Not Stated/Unknown</td>\n      <td>All Other Causes</td>\n      <td>608</td>\n    </tr>\n    <tr>\n      <th>55</th>\n      <td>Not Stated/Unknown</td>\n      <td>Malignant Neoplasms (Cancer: C00-C97)</td>\n      <td>170</td>\n    </tr>\n    <tr>\n      <th>51</th>\n      <td>Not Stated/Unknown</td>\n      <td>Diseases of Heart (I00-I09, I11, I13, I20-I51)</td>\n      <td>158</td>\n    </tr>\n    <tr>\n      <th>47</th>\n      <td>Not Stated/Unknown</td>\n      <td>Certain Conditions originating in the Perinata...</td>\n      <td>66</td>\n    </tr>\n    <tr>\n      <th>53</th>\n      <td>Not Stated/Unknown</td>\n      <td>Influenza (Flu) and Pneumonia (J09-J18)</td>\n      <td>32</td>\n    </tr>\n    <tr>\n      <th>49</th>\n      <td>Not Stated/Unknown</td>\n      <td>Chronic Lower Respiratory Diseases (J40-J47)</td>\n      <td>28</td>\n    </tr>\n    <tr>\n      <th>56</th>\n      <td>Not Stated/Unknown</td>\n      <td>Mental and Behavioral Disorders due to Acciden...</td>\n      <td>28</td>\n    </tr>\n    <tr>\n      <th>46</th>\n      <td>Not Stated/Unknown</td>\n      <td>Cerebrovascular Disease (Stroke: I60-I69)</td>\n      <td>22</td>\n    </tr>\n    <tr>\n      <th>52</th>\n      <td>Not Stated/Unknown</td>\n      <td>Human Immunodeficiency Virus Disease (HIV: B20...</td>\n      <td>15</td>\n    </tr>\n    <tr>\n      <th>43</th>\n      <td>Not Stated/Unknown</td>\n      <td>Accidents Except Drug Posioning (V01-X39, X43,...</td>\n      <td>10</td>\n    </tr>\n    <tr>\n      <th>48</th>\n      <td>Not Stated/Unknown</td>\n      <td>Chronic Liver Disease and Cirrhosis (K70, K73)</td>\n      <td>10</td>\n    </tr>\n    <tr>\n      <th>54</th>\n      <td>Not Stated/Unknown</td>\n      <td>Intentional Self-Harm (Suicide: X60-X84, Y87.0)</td>\n      <td>8</td>\n    </tr>\n    <tr>\n      <th>45</th>\n      <td>Not Stated/Unknown</td>\n      <td>Assault (Homicide: Y87.1, X85-Y09)</td>\n      <td>7</td>\n    </tr>\n    <tr>\n      <th>50</th>\n      <td>Not Stated/Unknown</td>\n      <td>Diabetes Mellitus (E10-E14)</td>\n      <td>5</td>\n    </tr>\n    <tr>\n      <th>57</th>\n      <td>Other Race/ Ethnicity</td>\n      <td>All Other Causes</td>\n      <td>260</td>\n    </tr>\n    <tr>\n      <th>67</th>\n      <td>Other Race/ Ethnicity</td>\n      <td>Malignant Neoplasms (Cancer: C00-C97)</td>\n      <td>122</td>\n    </tr>\n    <tr>\n      <th>62</th>\n      <td>Other Race/ Ethnicity</td>\n      <td>Diseases of Heart (I00-I09, I11, I13, I20-I51)</td>\n      <td>40</td>\n    </tr>\n    <tr>\n      <th>61</th>\n      <td>Other Race/ Ethnicity</td>\n      <td>Diabetes Mellitus (E10-E14)</td>\n      <td>20</td>\n    </tr>\n    <tr>\n      <th>58</th>\n      <td>Other Race/ Ethnicity</td>\n      <td>Cerebrovascular Disease (Stroke: I60-I69)</td>\n      <td>19</td>\n    </tr>\n    <tr>\n      <th>66</th>\n      <td>Other Race/ Ethnicity</td>\n      <td>Intentional Self-Harm (Suicide: X60-X84, Y87.0)</td>\n      <td>15</td>\n    </tr>\n    <tr>\n      <th>65</th>\n      <td>Other Race/ Ethnicity</td>\n      <td>Influenza (Flu) and Pneumonia (J09-J18)</td>\n      <td>13</td>\n    </tr>\n    <tr>\n      <th>68</th>\n      <td>Other Race/ Ethnicity</td>\n      <td>Mental and Behavioral Disorders due to Acciden...</td>\n      <td>12</td>\n    </tr>\n    <tr>\n      <th>59</th>\n      <td>Other Race/ Ethnicity</td>\n      <td>Chronic Liver Disease and Cirrhosis (K70, K73)</td>\n      <td>10</td>\n    </tr>\n    <tr>\n      <th>64</th>\n      <td>Other Race/ Ethnicity</td>\n      <td>Human Immunodeficiency Virus Disease (HIV: B20...</td>\n      <td>10</td>\n    </tr>\n    <tr>\n      <th>63</th>\n      <td>Other Race/ Ethnicity</td>\n      <td>Essential Hypertension and Renal Diseases (I10...</td>\n      <td>8</td>\n    </tr>\n    <tr>\n      <th>69</th>\n      <td>Other Race/ Ethnicity</td>\n      <td>Septicemia (A40-A41)</td>\n      <td>6</td>\n    </tr>\n    <tr>\n      <th>60</th>\n      <td>Other Race/ Ethnicity</td>\n      <td>Chronic Lower Respiratory Diseases (J40-J47)</td>\n      <td>5</td>\n    </tr>\n    <tr>\n      <th>80</th>\n      <td>White Non-Hispanic</td>\n      <td>Malignant Neoplasms (Cancer: C00-C97)</td>\n      <td>13481</td>\n    </tr>\n    <tr>\n      <th>71</th>\n      <td>White Non-Hispanic</td>\n      <td>All Other Causes</td>\n      <td>11582</td>\n    </tr>\n    <tr>\n      <th>76</th>\n      <td>White Non-Hispanic</td>\n      <td>Diseases of Heart (I00-I09, I11, I13, I20-I51)</td>\n      <td>9886</td>\n    </tr>\n    <tr>\n      <th>78</th>\n      <td>White Non-Hispanic</td>\n      <td>Influenza (Flu) and Pneumonia (J09-J18)</td>\n      <td>1687</td>\n    </tr>\n    <tr>\n      <th>75</th>\n      <td>White Non-Hispanic</td>\n      <td>Diabetes Mellitus (E10-E14)</td>\n      <td>1278</td>\n    </tr>\n    <tr>\n      <th>73</th>\n      <td>White Non-Hispanic</td>\n      <td>Cerebrovascular Disease (Stroke: I60-I69)</td>\n      <td>1247</td>\n    </tr>\n    <tr>\n      <th>77</th>\n      <td>White Non-Hispanic</td>\n      <td>Essential Hypertension and Renal Diseases (I10...</td>\n      <td>1240</td>\n    </tr>\n    <tr>\n      <th>74</th>\n      <td>White Non-Hispanic</td>\n      <td>Chronic Lower Respiratory Diseases (J40-J47)</td>\n      <td>1234</td>\n    </tr>\n    <tr>\n      <th>70</th>\n      <td>White Non-Hispanic</td>\n      <td>Accidents Except Drug Posioning (V01-X39, X43,...</td>\n      <td>971</td>\n    </tr>\n    <tr>\n      <th>79</th>\n      <td>White Non-Hispanic</td>\n      <td>Intentional Self-Harm (Suicide: X60-X84, Y87.0)</td>\n      <td>586</td>\n    </tr>\n    <tr>\n      <th>72</th>\n      <td>White Non-Hispanic</td>\n      <td>Alzheimer's Disease (G30)</td>\n      <td>263</td>\n    </tr>\n    <tr>\n      <th>82</th>\n      <td>White Non-Hispanic</td>\n      <td>Septicemia (A40-A41)</td>\n      <td>118</td>\n    </tr>\n    <tr>\n      <th>81</th>\n      <td>White Non-Hispanic</td>\n      <td>Mental and Behavioral Disorders due to Acciden...</td>\n      <td>88</td>\n    </tr>\n  </tbody>\n</table>\n</div>"
          },
          "metadata": {}
        }
      ],
      "execution_count": 22
    },
    {
      "cell_type": "markdown",
      "source": "Dataset 3\n1. I'll examine the statistics to determine which kind of vehicle has the highest number of infractions.\n2. Which state has the most infractions outside of Maryland?\n3. Which transgression is the most often\n\n",
      "metadata": {}
    },
    {
      "cell_type": "markdown",
      "source": "This dataset contains traffic violation information from all electronic traffic violations issued in the County. https://catalog.data.gov/dataset/traffic-violations-56dda",
      "metadata": {}
    },
    {
      "cell_type": "code",
      "source": "# dot = pd.read_csv('data/Death_Rates_NYC.csv', na_values=['.'])\ntraffic_full = pd.read_csv('Traffic_Violations_Short.csv', dtype={'Year': str})\ntraffic_full = traffic_full.rename(columns={'Driver State': 'driver_state', \\\n                          'Violation Type': 'violation_type',})",
      "metadata": {
        "trusted": true
      },
      "outputs": [],
      "execution_count": 23
    },
    {
      "cell_type": "code",
      "source": "# create a series that contains the year, make, and model in one string\ntempdf = traffic_full['Year'].astype(str) + ' ' + traffic_full['Make'] + ' ' + traffic_full['Model']\n\n# create a dataframe that contains a subset of the traffic data\ntraffic = traffic_full[['Fatal', 'driver_state', 'violation_type']].copy()\ntraffic['ymm'] = tempdf # add the year/make/model column to the dataframe\ntraffic.head() # display the new dataframe",
      "metadata": {
        "trusted": true
      },
      "outputs": [
        {
          "execution_count": 24,
          "output_type": "execute_result",
          "data": {
            "text/plain": "  Fatal driver_state violation_type                  ymm\n0    No           MD       Citation         2008 FORD 4S\n1    No           VA       Citation  2001 TOYOTA COROLLA\n2    No           MD       Citation    2001 HONDA ACCORD\n3    No           MD       Citation     1998 DODG DAKOTA\n4    No           MD       Citation  2015 MINI COOPER 2S",
            "text/html": "<div>\n<style scoped>\n    .dataframe tbody tr th:only-of-type {\n        vertical-align: middle;\n    }\n\n    .dataframe tbody tr th {\n        vertical-align: top;\n    }\n\n    .dataframe thead th {\n        text-align: right;\n    }\n</style>\n<table border=\"1\" class=\"dataframe\">\n  <thead>\n    <tr style=\"text-align: right;\">\n      <th></th>\n      <th>Fatal</th>\n      <th>driver_state</th>\n      <th>violation_type</th>\n      <th>ymm</th>\n    </tr>\n  </thead>\n  <tbody>\n    <tr>\n      <th>0</th>\n      <td>No</td>\n      <td>MD</td>\n      <td>Citation</td>\n      <td>2008 FORD 4S</td>\n    </tr>\n    <tr>\n      <th>1</th>\n      <td>No</td>\n      <td>VA</td>\n      <td>Citation</td>\n      <td>2001 TOYOTA COROLLA</td>\n    </tr>\n    <tr>\n      <th>2</th>\n      <td>No</td>\n      <td>MD</td>\n      <td>Citation</td>\n      <td>2001 HONDA ACCORD</td>\n    </tr>\n    <tr>\n      <th>3</th>\n      <td>No</td>\n      <td>MD</td>\n      <td>Citation</td>\n      <td>1998 DODG DAKOTA</td>\n    </tr>\n    <tr>\n      <th>4</th>\n      <td>No</td>\n      <td>MD</td>\n      <td>Citation</td>\n      <td>2015 MINI COOPER 2S</td>\n    </tr>\n  </tbody>\n</table>\n</div>"
          },
          "metadata": {}
        }
      ],
      "execution_count": 24
    },
    {
      "cell_type": "code",
      "source": "# create a dataframe with the count of each violation by year/make/model.\ntempdf = traffic.groupby('ymm').ymm.count().reset_index(name='ymm_count')\ntempdf.sort_values('ymm_count', ascending=False).head(5) # sort the total violations by tear make and model",
      "metadata": {
        "trusted": true
      },
      "outputs": [
        {
          "execution_count": 25,
          "output_type": "execute_result",
          "data": {
            "text/plain": "                         ymm  ymm_count\n668             2016 TOYT TK          8\n681            nan NONE NONE          7\n353        2006 FORD MUSTANG          7\n655      2015 MINI COOPER 2S          6\n423  2007 NISS 350 Z TRICKED          5",
            "text/html": "<div>\n<style scoped>\n    .dataframe tbody tr th:only-of-type {\n        vertical-align: middle;\n    }\n\n    .dataframe tbody tr th {\n        vertical-align: top;\n    }\n\n    .dataframe thead th {\n        text-align: right;\n    }\n</style>\n<table border=\"1\" class=\"dataframe\">\n  <thead>\n    <tr style=\"text-align: right;\">\n      <th></th>\n      <th>ymm</th>\n      <th>ymm_count</th>\n    </tr>\n  </thead>\n  <tbody>\n    <tr>\n      <th>668</th>\n      <td>2016 TOYT TK</td>\n      <td>8</td>\n    </tr>\n    <tr>\n      <th>681</th>\n      <td>nan NONE NONE</td>\n      <td>7</td>\n    </tr>\n    <tr>\n      <th>353</th>\n      <td>2006 FORD MUSTANG</td>\n      <td>7</td>\n    </tr>\n    <tr>\n      <th>655</th>\n      <td>2015 MINI COOPER 2S</td>\n      <td>6</td>\n    </tr>\n    <tr>\n      <th>423</th>\n      <td>2007 NISS 350 Z TRICKED</td>\n      <td>5</td>\n    </tr>\n  </tbody>\n</table>\n</div>"
          },
          "metadata": {}
        }
      ],
      "execution_count": 25
    },
    {
      "cell_type": "code",
      "source": "tempdf = traffic[traffic.driver_state != 'MD'].groupby('driver_state').driver_state.count().reset_index(name='state_violations')\ntempdf.sort_values('state_violations', ascending=False).head(5) # sort the total violations by tear make and model",
      "metadata": {
        "trusted": true
      },
      "outputs": [
        {
          "execution_count": 26,
          "output_type": "execute_result",
          "data": {
            "text/plain": "  driver_state  state_violations\n2           DC                28\n9           VA                22\n7           PA                 4\n6           NY                 3\n0           AK                 2",
            "text/html": "<div>\n<style scoped>\n    .dataframe tbody tr th:only-of-type {\n        vertical-align: middle;\n    }\n\n    .dataframe tbody tr th {\n        vertical-align: top;\n    }\n\n    .dataframe thead th {\n        text-align: right;\n    }\n</style>\n<table border=\"1\" class=\"dataframe\">\n  <thead>\n    <tr style=\"text-align: right;\">\n      <th></th>\n      <th>driver_state</th>\n      <th>state_violations</th>\n    </tr>\n  </thead>\n  <tbody>\n    <tr>\n      <th>2</th>\n      <td>DC</td>\n      <td>28</td>\n    </tr>\n    <tr>\n      <th>9</th>\n      <td>VA</td>\n      <td>22</td>\n    </tr>\n    <tr>\n      <th>7</th>\n      <td>PA</td>\n      <td>4</td>\n    </tr>\n    <tr>\n      <th>6</th>\n      <td>NY</td>\n      <td>3</td>\n    </tr>\n    <tr>\n      <th>0</th>\n      <td>AK</td>\n      <td>2</td>\n    </tr>\n  </tbody>\n</table>\n</div>"
          },
          "metadata": {}
        }
      ],
      "execution_count": 26
    },
    {
      "cell_type": "code",
      "source": "# create a dataframe with the count of each violation by year/make/model.\ntempdf = traffic.groupby('violation_type').violation_type.count().reset_index(name='violation_count')\ntempdf.sort_values('violation_count', ascending=False).head(5) # sort the total violations by tear make and model\n",
      "metadata": {
        "trusted": true
      },
      "outputs": [
        {
          "execution_count": 27,
          "output_type": "execute_result",
          "data": {
            "text/plain": "  violation_type  violation_count\n0       Citation              834\n2        Warning              148\n1          ESERO               17",
            "text/html": "<div>\n<style scoped>\n    .dataframe tbody tr th:only-of-type {\n        vertical-align: middle;\n    }\n\n    .dataframe tbody tr th {\n        vertical-align: top;\n    }\n\n    .dataframe thead th {\n        text-align: right;\n    }\n</style>\n<table border=\"1\" class=\"dataframe\">\n  <thead>\n    <tr style=\"text-align: right;\">\n      <th></th>\n      <th>violation_type</th>\n      <th>violation_count</th>\n    </tr>\n  </thead>\n  <tbody>\n    <tr>\n      <th>0</th>\n      <td>Citation</td>\n      <td>834</td>\n    </tr>\n    <tr>\n      <th>2</th>\n      <td>Warning</td>\n      <td>148</td>\n    </tr>\n    <tr>\n      <th>1</th>\n      <td>ESERO</td>\n      <td>17</td>\n    </tr>\n  </tbody>\n</table>\n</div>"
          },
          "metadata": {}
        }
      ],
      "execution_count": 27
    },
    {
      "cell_type": "code",
      "source": "",
      "metadata": {
        "trusted": true
      },
      "outputs": [],
      "execution_count": null
    }
  ]
}